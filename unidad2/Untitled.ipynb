{
 "cells": [
  {
   "cell_type": "markdown",
   "metadata": {},
   "source": [
    "ODES, Integración, FFT , pytorch (clasificación de datos no linealmente separables y regresión minibatch)"
   ]
  },
  {
   "cell_type": "markdown",
   "metadata": {},
   "source": [
    "https://www.cs.toronto.edu/~frossard/post/linear_regression/\n",
    "\n",
    "https://sbu-python-class.github.io/python-science/\n",
    "\n",
    "https://medium.com/analytics-vidhya/python-implementation-of-andrew-ngs-machine-learning-course-part-2-2-dceff1a12a12\n",
    "\n",
    "http://fa.bianp.net/blog/2013/numerical-optimizers-for-logistic-regression/\n",
    "\n",
    "http://learningwithdata.com/logistic-regression-and-optimization.html"
   ]
  },
  {
   "cell_type": "code",
   "execution_count": null,
   "metadata": {},
   "outputs": [],
   "source": []
  }
 ],
 "metadata": {
  "kernelspec": {
   "display_name": "Python 3",
   "language": "python",
   "name": "python3"
  },
  "language_info": {
   "codemirror_mode": {
    "name": "ipython",
    "version": 3
   },
   "file_extension": ".py",
   "mimetype": "text/x-python",
   "name": "python",
   "nbconvert_exporter": "python",
   "pygments_lexer": "ipython3",
   "version": "3.7.3"
  }
 },
 "nbformat": 4,
 "nbformat_minor": 2
}
